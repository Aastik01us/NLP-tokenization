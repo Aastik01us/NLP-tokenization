{
  "nbformat": 4,
  "nbformat_minor": 0,
  "metadata": {
    "colab": {
      "provenance": [],
      "authorship_tag": "ABX9TyMfMEBYiWoYtqsBgOq/wdZZ",
      "include_colab_link": true
    },
    "kernelspec": {
      "name": "python3",
      "display_name": "Python 3"
    },
    "language_info": {
      "name": "python"
    }
  },
  "cells": [
    {
      "cell_type": "markdown",
      "metadata": {
        "id": "view-in-github",
        "colab_type": "text"
      },
      "source": [
        "<a href=\"https://colab.research.google.com/github/Aastik01us/NLP-tokenization/blob/main/NLP%2CTF_IDF.ipynb\" target=\"_parent\"><img src=\"https://colab.research.google.com/assets/colab-badge.svg\" alt=\"Open In Colab\"/></a>"
      ]
    },
    {
      "cell_type": "code",
      "execution_count": 1,
      "metadata": {
        "colab": {
          "base_uri": "https://localhost:8080/"
        },
        "id": "hdP-L1JYm5LH",
        "outputId": "217396ea-219c-4861-84bf-06bc3a4a43d3"
      },
      "outputs": [
        {
          "output_type": "stream",
          "name": "stdout",
          "text": [
            "Requirement already satisfied: nltk in /usr/local/lib/python3.11/dist-packages (3.9.1)\n",
            "Requirement already satisfied: click in /usr/local/lib/python3.11/dist-packages (from nltk) (8.2.1)\n",
            "Requirement already satisfied: joblib in /usr/local/lib/python3.11/dist-packages (from nltk) (1.5.1)\n",
            "Requirement already satisfied: regex>=2021.8.3 in /usr/local/lib/python3.11/dist-packages (from nltk) (2024.11.6)\n",
            "Requirement already satisfied: tqdm in /usr/local/lib/python3.11/dist-packages (from nltk) (4.67.1)\n"
          ]
        }
      ],
      "source": [
        "pip install nltk"
      ]
    },
    {
      "cell_type": "code",
      "source": [
        "paragraph = \"\"\"\n",
        "Elon Reeve Musk FRS (/ˈiːlɒn/ EE-lon; born June 28, 1971) is a businessman. He is known for his leadership of Tesla, SpaceX, X (formerly Twitter), and the Department of Government Efficiency (DOGE). Musk has been considered the wealthiest person in the world since 2021; as of May 2025, Forbes estimates his net worth to be US$424.7 billion.\n",
        "\n",
        "Born to a wealthy family in Pretoria, South Africa, Musk emigrated in 1989 to Canada. He received bachelor's degrees from the University of Pennsylvania in 1997 before moving to California, United States, to pursue business ventures. In 1995, Musk co-founded the software company Zip2. Following its sale in 1999, he co-founded X.com, an online payment company that later merged to form PayPal, which was acquired by eBay in 2002. That year, Musk also became an American citizen.\n",
        "\n",
        "In 2002, Musk founded the space technology company SpaceX, becoming its CEO and chief engineer; the company has since led innovations in reusable rockets and commercial spaceflight. Musk joined the automaker Tesla as an early investor in 2004 and became its CEO and product architect in 2008; it has since become a leader in electric vehicles. In 2015, he co-founded OpenAI to advance artificial intelligence (AI) research but later left; growing discontent with the organization's direction and their leadership in the AI boom in the 2020s led him to establish xAI. In 2022, he acquired the social network Twitter, implementing significant changes and rebranding it as X in 2023. His other businesses include the neurotechnology company Neuralink, which he co-founded in 2016, and the tunneling company the Boring Company, which he founded in 2017.\n",
        "\n",
        "\n",
        "\"\"\""
      ],
      "metadata": {
        "id": "i82yx_mWnI_X"
      },
      "execution_count": 2,
      "outputs": []
    },
    {
      "cell_type": "code",
      "source": [
        "import nltk\n",
        "from nltk.stem import PorterStemmer\n",
        "from nltk.corpus import stopwords\n"
      ],
      "metadata": {
        "id": "3TpECMiCniIN"
      },
      "execution_count": 3,
      "outputs": []
    },
    {
      "cell_type": "code",
      "source": [
        "nltk.download('punkt')\n",
        "nltk.download('punkt_tab')\n"
      ],
      "metadata": {
        "colab": {
          "base_uri": "https://localhost:8080/"
        },
        "collapsed": true,
        "id": "HO16qDhNnvwj",
        "outputId": "6daba85f-fa09-4f63-a5a0-e235d5517b69"
      },
      "execution_count": 16,
      "outputs": [
        {
          "output_type": "stream",
          "name": "stderr",
          "text": [
            "[nltk_data] Downloading package punkt to /root/nltk_data...\n",
            "[nltk_data]   Package punkt is already up-to-date!\n",
            "[nltk_data] Downloading package punkt_tab to /root/nltk_data...\n",
            "[nltk_data]   Unzipping tokenizers/punkt_tab.zip.\n"
          ]
        },
        {
          "output_type": "execute_result",
          "data": {
            "text/plain": [
              "True"
            ]
          },
          "metadata": {},
          "execution_count": 16
        }
      ]
    },
    {
      "cell_type": "code",
      "source": [
        "sentence = nltk.sent_tokenize(paragraph)\n"
      ],
      "metadata": {
        "id": "F_hIod-6n3Bx"
      },
      "execution_count": 17,
      "outputs": []
    },
    {
      "cell_type": "code",
      "source": [
        "type(sentence)"
      ],
      "metadata": {
        "colab": {
          "base_uri": "https://localhost:8080/"
        },
        "id": "wdjg1B1Ln_qJ",
        "outputId": "798ef0ca-296e-4733-fd00-6feb12703eac"
      },
      "execution_count": 18,
      "outputs": [
        {
          "output_type": "execute_result",
          "data": {
            "text/plain": [
              "list"
            ]
          },
          "metadata": {},
          "execution_count": 18
        }
      ]
    },
    {
      "cell_type": "code",
      "source": [
        "print(sentence)"
      ],
      "metadata": {
        "colab": {
          "base_uri": "https://localhost:8080/"
        },
        "id": "Hg1BnySKpcne",
        "outputId": "fa2e6a47-10c4-49fa-d920-9c13e2565220"
      },
      "execution_count": 19,
      "outputs": [
        {
          "output_type": "stream",
          "name": "stdout",
          "text": [
            "['\\nElon Reeve Musk FRS (/ˈiːlɒn/ EE-lon; born June 28, 1971) is a businessman.', 'He is known for his leadership of Tesla, SpaceX, X (formerly Twitter), and the Department of Government Efficiency (DOGE).', 'Musk has been considered the wealthiest person in the world since 2021; as of May 2025, Forbes estimates his net worth to be US$424.7 billion.', 'Born to a wealthy family in Pretoria, South Africa, Musk emigrated in 1989 to Canada.', \"He received bachelor's degrees from the University of Pennsylvania in 1997 before moving to California, United States, to pursue business ventures.\", 'In 1995, Musk co-founded the software company Zip2.', 'Following its sale in 1999, he co-founded X.com, an online payment company that later merged to form PayPal, which was acquired by eBay in 2002.', 'That year, Musk also became an American citizen.', 'In 2002, Musk founded the space technology company SpaceX, becoming its CEO and chief engineer; the company has since led innovations in reusable rockets and commercial spaceflight.', 'Musk joined the automaker Tesla as an early investor in 2004 and became its CEO and product architect in 2008; it has since become a leader in electric vehicles.', \"In 2015, he co-founded OpenAI to advance artificial intelligence (AI) research but later left; growing discontent with the organization's direction and their leadership in the AI boom in the 2020s led him to establish xAI.\", 'In 2022, he acquired the social network Twitter, implementing significant changes and rebranding it as X in 2023.', 'His other businesses include the neurotechnology company Neuralink, which he co-founded in 2016, and the tunneling company the Boring Company, which he founded in 2017.']\n"
          ]
        }
      ]
    },
    {
      "cell_type": "code",
      "source": [
        "stemmer = PorterStemmer()\n",
        "stemmer.stem('running')"
      ],
      "metadata": {
        "colab": {
          "base_uri": "https://localhost:8080/",
          "height": 36
        },
        "id": "mRjfpolBpgop",
        "outputId": "ab263720-e5f7-42c5-a3da-8bbd120d5f43"
      },
      "execution_count": 21,
      "outputs": [
        {
          "output_type": "execute_result",
          "data": {
            "text/plain": [
              "'run'"
            ],
            "application/vnd.google.colaboratory.intrinsic+json": {
              "type": "string"
            }
          },
          "metadata": {},
          "execution_count": 21
        }
      ]
    },
    {
      "cell_type": "code",
      "source": [
        "nltk.download('wordnet')"
      ],
      "metadata": {
        "colab": {
          "base_uri": "https://localhost:8080/"
        },
        "id": "LeHBvoEypwrs",
        "outputId": "97509cc4-429c-408d-dea5-20979e5748ed"
      },
      "execution_count": 22,
      "outputs": [
        {
          "output_type": "stream",
          "name": "stderr",
          "text": [
            "[nltk_data] Downloading package wordnet to /root/nltk_data...\n"
          ]
        },
        {
          "output_type": "execute_result",
          "data": {
            "text/plain": [
              "True"
            ]
          },
          "metadata": {},
          "execution_count": 22
        }
      ]
    },
    {
      "cell_type": "code",
      "source": [
        "from nltk.stem import WordNetLemmatizer\n",
        "lemmatizer = WordNetLemmatizer()\n",
        "lemmatizer.lemmatize('running')"
      ],
      "metadata": {
        "colab": {
          "base_uri": "https://localhost:8080/",
          "height": 36
        },
        "id": "9S9udNHbp_7n",
        "outputId": "e7b5354b-d92f-4c3f-da73-e9e00a8c1592"
      },
      "execution_count": 28,
      "outputs": [
        {
          "output_type": "execute_result",
          "data": {
            "text/plain": [
              "'running'"
            ],
            "application/vnd.google.colaboratory.intrinsic+json": {
              "type": "string"
            }
          },
          "metadata": {},
          "execution_count": 28
        }
      ]
    },
    {
      "cell_type": "code",
      "source": [
        "import re\n",
        "corpus = []\n",
        "for i in range(len(sentence)):\n",
        "  text = re.sub('[^a-zA-Z]', ' ', sentence[i])\n",
        "  text = text.lower()\n",
        "  corpus.append(text)\n",
        "corpus"
      ],
      "metadata": {
        "colab": {
          "base_uri": "https://localhost:8080/"
        },
        "collapsed": true,
        "id": "HQa4pql3qPjw",
        "outputId": "d3000141-3c81-4048-d7a3-f2153e7386ff"
      },
      "execution_count": 30,
      "outputs": [
        {
          "output_type": "execute_result",
          "data": {
            "text/plain": [
              "[' elon reeve musk frs    i l n  ee lon  born june           is a businessman ',\n",
              " 'he is known for his leadership of tesla  spacex  x  formerly twitter   and the department of government efficiency  doge  ',\n",
              " 'musk has been considered the wealthiest person in the world since       as of may       forbes estimates his net worth to be us       billion ',\n",
              " 'born to a wealthy family in pretoria  south africa  musk emigrated in      to canada ',\n",
              " 'he received bachelor s degrees from the university of pennsylvania in      before moving to california  united states  to pursue business ventures ',\n",
              " 'in       musk co founded the software company zip  ',\n",
              " 'following its sale in       he co founded x com  an online payment company that later merged to form paypal  which was acquired by ebay in      ',\n",
              " 'that year  musk also became an american citizen ',\n",
              " 'in       musk founded the space technology company spacex  becoming its ceo and chief engineer  the company has since led innovations in reusable rockets and commercial spaceflight ',\n",
              " 'musk joined the automaker tesla as an early investor in      and became its ceo and product architect in       it has since become a leader in electric vehicles ',\n",
              " 'in       he co founded openai to advance artificial intelligence  ai  research but later left  growing discontent with the organization s direction and their leadership in the ai boom in the     s led him to establish xai ',\n",
              " 'in       he acquired the social network twitter  implementing significant changes and rebranding it as x in      ',\n",
              " 'his other businesses include the neurotechnology company neuralink  which he co founded in       and the tunneling company the boring company  which he founded in      ']"
            ]
          },
          "metadata": {},
          "execution_count": 30
        }
      ]
    },
    {
      "cell_type": "code",
      "source": [
        "nltk.download('stopwords')"
      ],
      "metadata": {
        "colab": {
          "base_uri": "https://localhost:8080/"
        },
        "id": "al9LMCm9si17",
        "outputId": "c0ee9844-b5d9-4892-828e-c66f955bc6cd"
      },
      "execution_count": 31,
      "outputs": [
        {
          "output_type": "stream",
          "name": "stderr",
          "text": [
            "[nltk_data] Downloading package stopwords to /root/nltk_data...\n",
            "[nltk_data]   Unzipping corpora/stopwords.zip.\n"
          ]
        },
        {
          "output_type": "execute_result",
          "data": {
            "text/plain": [
              "True"
            ]
          },
          "metadata": {},
          "execution_count": 31
        }
      ]
    },
    {
      "cell_type": "code",
      "source": [
        "for i in corpus:\n",
        "  words = nltk.word_tokenize(i)\n",
        "  for word in words:\n",
        "    if word not in set(stopwords.words('english')):\n",
        "      print(stemmer.stem(word))"
      ],
      "metadata": {
        "colab": {
          "base_uri": "https://localhost:8080/"
        },
        "collapsed": true,
        "id": "XUiFiFu9tLam",
        "outputId": "49216fe4-474e-4169-be9d-bf83d199adfe"
      },
      "execution_count": 32,
      "outputs": [
        {
          "output_type": "stream",
          "name": "stdout",
          "text": [
            "elon\n",
            "reev\n",
            "musk\n",
            "fr\n",
            "l\n",
            "n\n",
            "ee\n",
            "lon\n",
            "born\n",
            "june\n",
            "businessman\n",
            "known\n",
            "leadership\n",
            "tesla\n",
            "spacex\n",
            "x\n",
            "formerli\n",
            "twitter\n",
            "depart\n",
            "govern\n",
            "effici\n",
            "doge\n",
            "musk\n",
            "consid\n",
            "wealthiest\n",
            "person\n",
            "world\n",
            "sinc\n",
            "may\n",
            "forb\n",
            "estim\n",
            "net\n",
            "worth\n",
            "us\n",
            "billion\n",
            "born\n",
            "wealthi\n",
            "famili\n",
            "pretoria\n",
            "south\n",
            "africa\n",
            "musk\n",
            "emigr\n",
            "canada\n",
            "receiv\n",
            "bachelor\n",
            "degre\n",
            "univers\n",
            "pennsylvania\n",
            "move\n",
            "california\n",
            "unit\n",
            "state\n",
            "pursu\n",
            "busi\n",
            "ventur\n",
            "musk\n",
            "co\n",
            "found\n",
            "softwar\n",
            "compani\n",
            "zip\n",
            "follow\n",
            "sale\n",
            "co\n",
            "found\n",
            "x\n",
            "com\n",
            "onlin\n",
            "payment\n",
            "compani\n",
            "later\n",
            "merg\n",
            "form\n",
            "paypal\n",
            "acquir\n",
            "ebay\n",
            "year\n",
            "musk\n",
            "also\n",
            "becam\n",
            "american\n",
            "citizen\n",
            "musk\n",
            "found\n",
            "space\n",
            "technolog\n",
            "compani\n",
            "spacex\n",
            "becom\n",
            "ceo\n",
            "chief\n",
            "engin\n",
            "compani\n",
            "sinc\n",
            "led\n",
            "innov\n",
            "reusabl\n",
            "rocket\n",
            "commerci\n",
            "spaceflight\n",
            "musk\n",
            "join\n",
            "automak\n",
            "tesla\n",
            "earli\n",
            "investor\n",
            "becam\n",
            "ceo\n",
            "product\n",
            "architect\n",
            "sinc\n",
            "becom\n",
            "leader\n",
            "electr\n",
            "vehicl\n",
            "co\n",
            "found\n",
            "openai\n",
            "advanc\n",
            "artifici\n",
            "intellig\n",
            "ai\n",
            "research\n",
            "later\n",
            "left\n",
            "grow\n",
            "discont\n",
            "organ\n",
            "direct\n",
            "leadership\n",
            "ai\n",
            "boom\n",
            "led\n",
            "establish\n",
            "xai\n",
            "acquir\n",
            "social\n",
            "network\n",
            "twitter\n",
            "implement\n",
            "signific\n",
            "chang\n",
            "rebrand\n",
            "x\n",
            "busi\n",
            "includ\n",
            "neurotechnolog\n",
            "compani\n",
            "neuralink\n",
            "co\n",
            "found\n",
            "tunnel\n",
            "compani\n",
            "bore\n",
            "compani\n",
            "found\n"
          ]
        }
      ]
    },
    {
      "cell_type": "code",
      "source": [
        "from sklearn.feature_extraction.text import CountVectorizer\n",
        "cv = CountVectorizer()\n",
        "x = cv.fit_transform(corpus)\n",
        "cv.vocabulary_"
      ],
      "metadata": {
        "colab": {
          "base_uri": "https://localhost:8080/"
        },
        "collapsed": true,
        "id": "dHdmI7jZtiKG",
        "outputId": "e47f2891-c148-4530-8d27-3a6e02a97baf"
      },
      "execution_count": 34,
      "outputs": [
        {
          "output_type": "execute_result",
          "data": {
            "text/plain": [
              "{'elon': 49,\n",
              " 'reeve': 109,\n",
              " 'musk': 90,\n",
              " 'frs': 62,\n",
              " 'ee': 46,\n",
              " 'lon': 86,\n",
              " 'born': 22,\n",
              " 'june': 79,\n",
              " 'is': 75,\n",
              " 'businessman': 25,\n",
              " 'he': 66,\n",
              " 'known': 80,\n",
              " 'for': 56,\n",
              " 'his': 68,\n",
              " 'leadership': 83,\n",
              " 'of': 95,\n",
              " 'tesla': 124,\n",
              " 'spacex': 121,\n",
              " 'formerly': 59,\n",
              " 'twitter': 130,\n",
              " 'and': 7,\n",
              " 'the': 126,\n",
              " 'department': 40,\n",
              " 'government': 63,\n",
              " 'efficiency': 47,\n",
              " 'doge': 43,\n",
              " 'has': 65,\n",
              " 'been': 17,\n",
              " 'considered': 38,\n",
              " 'wealthiest': 137,\n",
              " 'person': 103,\n",
              " 'in': 70,\n",
              " 'world': 141,\n",
              " 'since': 115,\n",
              " 'as': 10,\n",
              " 'may': 87,\n",
              " 'forbes': 57,\n",
              " 'estimates': 53,\n",
              " 'net': 91,\n",
              " 'worth': 142,\n",
              " 'to': 128,\n",
              " 'be': 13,\n",
              " 'us': 133,\n",
              " 'billion': 19,\n",
              " 'wealthy': 138,\n",
              " 'family': 54,\n",
              " 'pretoria': 104,\n",
              " 'south': 118,\n",
              " 'africa': 2,\n",
              " 'emigrated': 50,\n",
              " 'canada': 29,\n",
              " 'received': 108,\n",
              " 'bachelor': 12,\n",
              " 'degrees': 39,\n",
              " 'from': 61,\n",
              " 'university': 132,\n",
              " 'pennsylvania': 102,\n",
              " 'before': 18,\n",
              " 'moving': 89,\n",
              " 'california': 28,\n",
              " 'united': 131,\n",
              " 'states': 122,\n",
              " 'pursue': 106,\n",
              " 'business': 23,\n",
              " 'ventures': 135,\n",
              " 'co': 34,\n",
              " 'founded': 60,\n",
              " 'software': 117,\n",
              " 'company': 37,\n",
              " 'zip': 145,\n",
              " 'following': 55,\n",
              " 'its': 77,\n",
              " 'sale': 113,\n",
              " 'com': 35,\n",
              " 'an': 6,\n",
              " 'online': 96,\n",
              " 'payment': 100,\n",
              " 'that': 125,\n",
              " 'later': 81,\n",
              " 'merged': 88,\n",
              " 'form': 58,\n",
              " 'paypal': 101,\n",
              " 'which': 139,\n",
              " 'was': 136,\n",
              " 'acquired': 0,\n",
              " 'by': 27,\n",
              " 'ebay': 45,\n",
              " 'year': 144,\n",
              " 'also': 4,\n",
              " 'became': 14,\n",
              " 'american': 5,\n",
              " 'citizen': 33,\n",
              " 'space': 119,\n",
              " 'technology': 123,\n",
              " 'becoming': 16,\n",
              " 'ceo': 30,\n",
              " 'chief': 32,\n",
              " 'engineer': 51,\n",
              " 'led': 84,\n",
              " 'innovations': 72,\n",
              " 'reusable': 111,\n",
              " 'rockets': 112,\n",
              " 'commercial': 36,\n",
              " 'spaceflight': 120,\n",
              " 'joined': 78,\n",
              " 'automaker': 11,\n",
              " 'early': 44,\n",
              " 'investor': 74,\n",
              " 'product': 105,\n",
              " 'architect': 8,\n",
              " 'it': 76,\n",
              " 'become': 15,\n",
              " 'leader': 82,\n",
              " 'electric': 48,\n",
              " 'vehicles': 134,\n",
              " 'openai': 97,\n",
              " 'advance': 1,\n",
              " 'artificial': 9,\n",
              " 'intelligence': 73,\n",
              " 'ai': 3,\n",
              " 'research': 110,\n",
              " 'but': 26,\n",
              " 'left': 85,\n",
              " 'growing': 64,\n",
              " 'discontent': 42,\n",
              " 'with': 140,\n",
              " 'organization': 98,\n",
              " 'direction': 41,\n",
              " 'their': 127,\n",
              " 'boom': 20,\n",
              " 'him': 67,\n",
              " 'establish': 52,\n",
              " 'xai': 143,\n",
              " 'social': 116,\n",
              " 'network': 92,\n",
              " 'implementing': 69,\n",
              " 'significant': 114,\n",
              " 'changes': 31,\n",
              " 'rebranding': 107,\n",
              " 'other': 99,\n",
              " 'businesses': 24,\n",
              " 'include': 71,\n",
              " 'neurotechnology': 94,\n",
              " 'neuralink': 93,\n",
              " 'tunneling': 129,\n",
              " 'boring': 21}"
            ]
          },
          "metadata": {},
          "execution_count": 34
        }
      ]
    },
    {
      "cell_type": "code",
      "source": [
        "\"Term Frequency - Inverse Document Frequency\"\n",
        "from sklearn.feature_extraction.text import TfidfVectorizer\n",
        "corpus = [\n",
        "    \" I love machine learning\",\n",
        "    \"machine learning is fun \",\n",
        "    \"I enjoy learning new things\",\n",
        "    \"natural language processing is a part of machine learning\"\n",
        "]\n",
        "v = TfidfVectorizer()\n",
        "result = v.fit_transform(corpus)\n",
        "print(v.vocabulary_)"
      ],
      "metadata": {
        "colab": {
          "base_uri": "https://localhost:8080/"
        },
        "id": "s4HwdcfZt_jS",
        "outputId": "e797fc69-a020-49d5-87d7-0e76e4978535"
      },
      "execution_count": 35,
      "outputs": [
        {
          "output_type": "stream",
          "name": "stdout",
          "text": [
            "{'love': 5, 'machine': 6, 'learning': 4, 'is': 2, 'fun': 1, 'enjoy': 0, 'new': 8, 'things': 12, 'natural': 7, 'language': 3, 'processing': 11, 'part': 10, 'of': 9}\n"
          ]
        }
      ]
    },
    {
      "cell_type": "code",
      "source": [
        "print(result)"
      ],
      "metadata": {
        "colab": {
          "base_uri": "https://localhost:8080/"
        },
        "id": "J3dP3rEEyqev",
        "outputId": "c43a1457-dbba-4397-d231-eb9a47ca1e20"
      },
      "execution_count": 36,
      "outputs": [
        {
          "output_type": "stream",
          "name": "stdout",
          "text": [
            "<Compressed Sparse Row sparse matrix of dtype 'float64'\n",
            "\twith 19 stored elements and shape (4, 13)>\n",
            "  Coords\tValues\n",
            "  (0, 5)\t0.7715790094657221\n",
            "  (0, 6)\t0.4924888870251974\n",
            "  (0, 4)\t0.40264193560603856\n",
            "  (1, 6)\t0.42075315164463567\n",
            "  (1, 4)\t0.3439932714296342\n",
            "  (1, 2)\t0.5197138488789809\n",
            "  (1, 1)\t0.6591911178676787\n",
            "  (2, 4)\t0.2884767487500274\n",
            "  (2, 0)\t0.5528053199908667\n",
            "  (2, 8)\t0.5528053199908667\n",
            "  (2, 12)\t0.5528053199908667\n",
            "  (3, 6)\t0.2542729780776389\n",
            "  (3, 4)\t0.20788482088176372\n",
            "  (3, 2)\t0.31407771418017194\n",
            "  (3, 7)\t0.39836775555304266\n",
            "  (3, 3)\t0.39836775555304266\n",
            "  (3, 11)\t0.39836775555304266\n",
            "  (3, 10)\t0.39836775555304266\n",
            "  (3, 9)\t0.39836775555304266\n"
          ]
        }
      ]
    },
    {
      "cell_type": "code",
      "source": [
        "all_feature_names = v.get_feature_names_out()\n",
        "for word in all_feature_names:\n",
        "  index = v.vocabulary_.get(word)\n",
        "  idf_score = v.idf_[index]\n",
        "  print(f\"{word}{idf_score}\")\n"
      ],
      "metadata": {
        "colab": {
          "base_uri": "https://localhost:8080/"
        },
        "id": "--q8GyTMy2Bk",
        "outputId": "c62b52b7-3325-4944-91a6-03ecb9aa5349"
      },
      "execution_count": 38,
      "outputs": [
        {
          "output_type": "stream",
          "name": "stdout",
          "text": [
            "enjoy1.916290731874155\n",
            "fun1.916290731874155\n",
            "is1.5108256237659907\n",
            "language1.916290731874155\n",
            "learning1.0\n",
            "love1.916290731874155\n",
            "machine1.2231435513142097\n",
            "natural1.916290731874155\n",
            "new1.916290731874155\n",
            "of1.916290731874155\n",
            "part1.916290731874155\n",
            "processing1.916290731874155\n",
            "things1.916290731874155\n"
          ]
        }
      ]
    },
    {
      "cell_type": "code",
      "source": [],
      "metadata": {
        "id": "k98Lm3zszn25"
      },
      "execution_count": null,
      "outputs": []
    }
  ]
}